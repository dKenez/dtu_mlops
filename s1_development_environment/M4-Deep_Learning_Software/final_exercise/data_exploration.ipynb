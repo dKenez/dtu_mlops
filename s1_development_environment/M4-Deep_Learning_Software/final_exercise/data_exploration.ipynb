{
 "cells": [
  {
   "cell_type": "code",
   "execution_count": 3,
   "metadata": {},
   "outputs": [],
   "source": [
    "import numpy as np\n",
    "import torch\n",
    "\n",
    "from pathlib import Path\n",
    "\n",
    "import matplotlib.pyplot as plt"
   ]
  },
  {
   "cell_type": "code",
   "execution_count": 9,
   "metadata": {},
   "outputs": [
    {
     "name": "stdout",
     "output_type": "stream",
     "text": [
      "/home/dkenez/Projects/02476 - Machine Learning Operations/dtu_mlops/s1_development_environment/M4 - Deep Learning Software/corruptmnist\n"
     ]
    }
   ],
   "source": [
    "print(Path.cwd().parent / \"corruptmnist\")"
   ]
  },
  {
   "cell_type": "code",
   "execution_count": 13,
   "metadata": {},
   "outputs": [],
   "source": [
    "def mnist():\n",
    "    # exchange with the corrupted mnist dataset\n",
    "    # train = torch.randn(50000, 784)\n",
    "    # test = torch.randn(10000, 784)\n",
    "    base_path = Path.cwd().parent\n",
    "\n",
    "    with np.load(base_path / \"corruptmnist\" / \"train_0.npz\") as train_file:\n",
    "        train_x = train_file[\"images\"][:800]\n",
    "        train_y = train_file[\"labels\"][:800]\n",
    "        test_x = train_file[\"images\"][800:1000]\n",
    "        test_y = train_file[\"labels\"][800:1000]\n",
    "        \n",
    "    # with np.load(base_path / \"corruptmnist\" / \"test.npz\") as test_file:\n",
    "    #     test_x = test_file[\"images\"]\n",
    "    #     test_y = test_file[\"labels\"]\n",
    "\n",
    "    return train_x, train_y, test_x, test_y"
   ]
  },
  {
   "cell_type": "code",
   "execution_count": 14,
   "metadata": {},
   "outputs": [],
   "source": [
    "train_x, train_y, test_x, test_y = mnist()"
   ]
  },
  {
   "cell_type": "code",
   "execution_count": 15,
   "metadata": {},
   "outputs": [
    {
     "name": "stdout",
     "output_type": "stream",
     "text": [
      "800\n"
     ]
    }
   ],
   "source": [
    "print(len(train_x))"
   ]
  },
  {
   "cell_type": "code",
   "execution_count": 70,
   "metadata": {},
   "outputs": [
    {
     "name": "stdout",
     "output_type": "stream",
     "text": [
      "6\n"
     ]
    },
    {
     "data": {
      "image/png": "[encoded data removed]",
      "text/plain": [
       "<Figure size 640x480 with 1 Axes>"
      ]
     },
     "metadata": {},
     "output_type": "display_data"
    }
   ],
   "source": [
    "from random import randint\n",
    "\n",
    "rand_index = randint(0, 799)\n",
    "\n",
    "item = train_x[rand_index]\n",
    "item_label = train_y[rand_index]\n",
    "print(item_label)\n",
    "\n",
    "plt.imshow(item)\n",
    "plt.show()"
   ]
  },
  {
   "cell_type": "code",
   "execution_count": 79,
   "metadata": {},
   "outputs": [
    {
     "name": "stdout",
     "output_type": "stream",
     "text": [
      "True\n"
     ]
    }
   ],
   "source": [
    "a = 0\n",
    "b = 2\n",
    "print(a < 1 < b)"
   ]
  },
  {
   "cell_type": "code",
   "execution_count": 109,
   "metadata": {},
   "outputs": [],
   "source": [
    "def slicing(size=None):\n",
    "    sli = slice(size) or ...\n",
    "    print(len(train_x[sli]))\n"
   ]
  },
  {
   "cell_type": "code",
   "execution_count": 110,
   "metadata": {},
   "outputs": [
    {
     "name": "stdout",
     "output_type": "stream",
     "text": [
      "None\n",
      "800\n",
      "800\n",
      "None\n",
      "800\n",
      "798\n",
      "None\n",
      "800\n",
      "799\n",
      "None\n",
      "800\n",
      "0\n",
      "None\n",
      "800\n",
      "4\n",
      "None\n",
      "800\n",
      "400\n",
      "None\n",
      "800\n",
      "800\n"
     ]
    }
   ],
   "source": [
    "slicing()\n",
    "slicing(-2)\n",
    "slicing(-1)\n",
    "slicing(0)\n",
    "slicing(4)\n",
    "slicing(400)\n",
    "slicing(8000)\n",
    "\n"
   ]
  },
  {
   "cell_type": "code",
   "execution_count": null,
   "metadata": {},
   "outputs": [],
   "source": []
  },
  {
   "cell_type": "code",
   "execution_count": null,
   "metadata": {},
   "outputs": [],
   "source": []
  }
 ],
 "metadata": {
  "kernelspec": {
   "display_name": "mlops_ex1",
   "language": "python",
   "name": "python3"
  },
  "language_info": {
   "codemirror_mode": {
    "name": "ipython",
    "version": 3
   },
   "file_extension": ".py",
   "mimetype": "text/x-python",
   "name": "python",
   "nbconvert_exporter": "python",
   "pygments_lexer": "ipython3",
   "version": "3.10.8"
  },
  "orig_nbformat": 4,
  "vscode": {
   "interpreter": {
    "hash": "0a33966b92c8ccde58aee73c5beb0747ba424165e68c8173cc4d06b3767331c0"
   }
  }
 },
 "nbformat": 4,
 "nbformat_minor": 2
}
